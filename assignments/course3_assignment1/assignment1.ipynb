{
 "cells": [
  {
   "cell_type": "markdown",
   "id": "4e63cb0f",
   "metadata": {
    "deletable": false,
    "editable": false,
    "nbgrader": {
     "cell_type": "markdown",
     "checksum": "a2f77395a896ac92691485b7b0f91220",
     "grade": false,
     "grade_id": "cell-7c73af63fec4e9f7",
     "locked": true,
     "schema_version": 3,
     "solution": false,
     "task": false
    }
   },
   "source": [
    "# Assignment 1\n",
    "\n",
    "Nested Data and Nested Iteration"
   ]
  },
  {
   "cell_type": "markdown",
   "id": "cadc1f57",
   "metadata": {
    "deletable": false,
    "editable": false,
    "nbgrader": {
     "cell_type": "markdown",
     "checksum": "bb9d1445948669164599fff7cca80b48",
     "grade": false,
     "grade_id": "cell-2cd6a8705b79ab28",
     "locked": true,
     "schema_version": 3,
     "solution": false,
     "task": false
    }
   },
   "source": [
    "The variable `nested` contains a nested list. Assign `\"snake\"` to the variable `output` **using indexing**. Do not hard code."
   ]
  },
  {
   "cell_type": "code",
   "execution_count": 1,
   "id": "8efebd53",
   "metadata": {
    "deletable": false,
    "editable": true,
    "nbgrader": {
     "cell_type": "code",
     "checksum": "2f5426eb2b38ea529c1c4cd62dba1294",
     "grade": false,
     "grade_id": "cell-bdd016730873b172",
     "locked": false,
     "schema_version": 3,
     "solution": true,
     "task": false
    },
    "slideshow": {
     "slide_type": ""
    },
    "tags": []
   },
   "outputs": [
    {
     "name": "stdout",
     "output_type": "stream",
     "text": [
      "snake\n"
     ]
    }
   ],
   "source": [
    "nested = [\n",
    "    [\"dog\", \"cat\", \"horse\"],\n",
    "    [\"frog\", \"turtle\", \"snake\", \"gecko\"],\n",
    "    [\"hamster\", \"gerbil\", \"rat\", \"ferret\"],\n",
    "]\n",
    "\n",
    "output = nested[1][2]  # Access the second list, then the third element within that list\n",
    "print(output)"
   ]
  },
  {
   "cell_type": "code",
   "execution_count": 2,
   "id": "83f2b620",
   "metadata": {
    "deletable": false,
    "editable": false,
    "nbgrader": {
     "cell_type": "code",
     "checksum": "508969c6f0c2ca9fa6a4f23100d3c289",
     "grade": true,
     "grade_id": "cell-c830fb33be763368",
     "locked": true,
     "points": 1,
     "schema_version": 3,
     "solution": false,
     "task": false
    },
    "slideshow": {
     "slide_type": ""
    },
    "tags": []
   },
   "outputs": [],
   "source": [
    "# make the following assert pass; using indexing, not hardcoding.\n",
    "assert output == \"snake\""
   ]
  },
  {
   "cell_type": "markdown",
   "id": "3782e42c",
   "metadata": {
    "deletable": false,
    "editable": false,
    "nbgrader": {
     "cell_type": "markdown",
     "checksum": "26732fd9f290e3e24046e18cdf07e416",
     "grade": false,
     "grade_id": "cell-d4dfcf1ac28e4ed5",
     "locked": true,
     "schema_version": 3,
     "solution": false,
     "task": false
    }
   },
   "source": [
    "A nested list (`lst`) is provided below. Use indexing and the `in` operator to create variables with Boolean values. See comments for further instructions. Do not hard code."
   ]
  },
  {
   "cell_type": "code",
   "execution_count": 3,
   "id": "5a5fff80",
   "metadata": {
    "deletable": false,
    "nbgrader": {
     "cell_type": "code",
     "checksum": "687d13e53f72cafe64f1ce30b17949e4",
     "grade": false,
     "grade_id": "cell-f846a83774f43929",
     "locked": false,
     "schema_version": 3,
     "solution": true,
     "task": false
    },
    "tags": []
   },
   "outputs": [
    {
     "name": "stdout",
     "output_type": "stream",
     "text": [
      "True False True\n"
     ]
    }
   ],
   "source": [
    "lst = [\n",
    "    [\"apple\", \"orange\", \"banana\"],\n",
    "    [5, 6, 7, 8, 9.9, 10],\n",
    "    [\"green\", \"yellow\", \"purple\", \"red\"],\n",
    "]\n",
    "\n",
    "# Test to see if 'yellow' is in the third list of lst\n",
    "yellow = \"yellow\" in lst[2]\n",
    "\n",
    "# Test to see if 4 is in the second list of lst\n",
    "four = 4 in lst[1]\n",
    "\n",
    "# Test to see if 'orange' is in the first element of lst\n",
    "orange = \"orange\" in lst[0]\n",
    "print(yellow, four, orange)"
   ]
  },
  {
   "cell_type": "code",
   "execution_count": 4,
   "id": "03e301fd",
   "metadata": {
    "deletable": false,
    "editable": false,
    "nbgrader": {
     "cell_type": "code",
     "checksum": "b91cbe8e1e766a8085d84cff3c8af078",
     "grade": true,
     "grade_id": "cell-612bd76129dd8a88",
     "locked": true,
     "points": 1,
     "schema_version": 3,
     "solution": false,
     "task": false
    },
    "tags": []
   },
   "outputs": [],
   "source": [
    "assert yellow == True, \"yellow does not have the correct value\"\n",
    "assert four == False, \"four does not have the correct value\"\n",
    "assert orange == True, \"orange does not have the correct value\""
   ]
  },
  {
   "cell_type": "markdown",
   "id": "15582a70",
   "metadata": {
    "deletable": false,
    "editable": false,
    "nbgrader": {
     "cell_type": "markdown",
     "checksum": "04204354e680dbb422784ed18b833f21",
     "grade": false,
     "grade_id": "cell-557c5ed777cc62d1",
     "locked": true,
     "schema_version": 3,
     "solution": false,
     "task": false
    }
   },
   "source": [
    "A nested list (`L`) is provided below. Use indexing and the `in` operator to create variables with Boolean values. See comments for further instructions. Do not hard code."
   ]
  },
  {
   "cell_type": "code",
   "execution_count": 5,
   "id": "5850b1a7",
   "metadata": {
    "deletable": false,
    "nbgrader": {
     "cell_type": "code",
     "checksum": "8c2707fbe71327dab25b04582c9fbf25",
     "grade": false,
     "grade_id": "cell-6f00defc22a9a644",
     "locked": false,
     "schema_version": 3,
     "solution": true,
     "task": false
    },
    "tags": []
   },
   "outputs": [
    {
     "name": "stdout",
     "output_type": "stream",
     "text": [
      "False True True\n"
     ]
    }
   ],
   "source": [
    "L = [[5, 8, 7], [\"hello\", \"hi\", \"hola\"], [6.6, 1.54, 3.99], [\"small\", \"large\"]]\n",
    "\n",
    "# Check if 'hola' is in the list L\n",
    "test1 = \"hola\" in L\n",
    "\n",
    "# Check if [5, 8, 7] is in the list L\n",
    "test2 = [5, 8, 7] in L\n",
    "\n",
    "# Check if 6.6 is in the third element of list L\n",
    "test3 = 6.6 in L[2]\n",
    "\n",
    "print(test1, test2, test3)"
   ]
  },
  {
   "cell_type": "code",
   "execution_count": 6,
   "id": "fca3ba31",
   "metadata": {
    "deletable": false,
    "editable": false,
    "nbgrader": {
     "cell_type": "code",
     "checksum": "78bcb2a4f9cfeb470eca07c85cd07c64",
     "grade": true,
     "grade_id": "cell-e808d6b4735e5efa",
     "locked": true,
     "points": 1,
     "schema_version": 3,
     "solution": false,
     "task": false
    },
    "tags": []
   },
   "outputs": [],
   "source": [
    "assert test1 == False, \"test1 does not have the correct value\"\n",
    "assert test2 == True, \"test2 does not have the correct value\"\n",
    "assert test3 == True, \"test3 does not have the correct value\""
   ]
  },
  {
   "cell_type": "markdown",
   "id": "ab48f4a9",
   "metadata": {
    "deletable": false,
    "editable": false,
    "nbgrader": {
     "cell_type": "markdown",
     "checksum": "20420acfc0e943e428df32dee6f2f646",
     "grade": false,
     "grade_id": "cell-b8b5d79ce5d3edd8",
     "locked": true,
     "schema_version": 3,
     "solution": false,
     "task": false
    }
   },
   "source": [
    "A nested list (`nested`) is provided below. Use indexing and the `in` operator to create variables with Boolean values. See comments for further instructions. Do not hard code."
   ]
  },
  {
   "cell_type": "code",
   "execution_count": 7,
   "id": "c97148e8",
   "metadata": {
    "deletable": false,
    "nbgrader": {
     "cell_type": "code",
     "checksum": "a0b1b505478108b21c405ee8d122e264",
     "grade": false,
     "grade_id": "cell-c4c23e947c4fc73a",
     "locked": false,
     "schema_version": 3,
     "solution": true,
     "task": false
    },
    "tags": []
   },
   "outputs": [
    {
     "name": "stdout",
     "output_type": "stream",
     "text": [
      "True False False False\n"
     ]
    }
   ],
   "source": [
    "nested = {\n",
    "    \"data\": [\"finding\", 23, [\"exercises\", \"hangout\", 34]],\n",
    "    \"window\": [\n",
    "        \"part\",\n",
    "        \"whole\",\n",
    "        [],\n",
    "        \"sum\",\n",
    "        [\n",
    "            \"math\",\n",
    "            \"calculus\",\n",
    "            \"algebra\",\n",
    "            \"geometry\",\n",
    "            \"statistics\",\n",
    "            [\"physics\", \"chemistry\", \"biology\"],\n",
    "        ],\n",
    "    ],\n",
    "}\n",
    "\n",
    "# Check to see if the string 'data' is a key in nested\n",
    "data = \"data\" in nested\n",
    "\n",
    "# Check to see if the integer 24 is in the value of the key 'data' in nested\n",
    "twentyfour = 24 in nested[\"data\"]\n",
    "\n",
    "# Check to see that the string 'whole' is *not* in the value of the key 'window' in nested\n",
    "whole = \"whole\" not in nested[\"window\"]\n",
    "\n",
    "# Check to see if the string 'physics' is a key in the dictionary nested\n",
    "physics = \"physics\" in nested\n",
    "\n",
    "print(data, twentyfour, whole, physics)"
   ]
  },
  {
   "cell_type": "code",
   "execution_count": 8,
   "id": "6bd2cb4b",
   "metadata": {
    "deletable": false,
    "editable": false,
    "nbgrader": {
     "cell_type": "code",
     "checksum": "dad28e00b46f7143da74c480f5bb2ffe",
     "grade": true,
     "grade_id": "cell-0da054b06b2edd59",
     "locked": true,
     "points": 1,
     "schema_version": 3,
     "solution": false,
     "task": false
    },
    "tags": []
   },
   "outputs": [],
   "source": [
    "assert data == True, \"data does not have the correct value\"\n",
    "assert twentyfour == False, \"twentyfour does not have the correct value\"\n",
    "assert whole == False, \"whole does not have the correct value\"\n",
    "assert physics == False, \"physics does not have the correct value\""
   ]
  },
  {
   "cell_type": "markdown",
   "id": "adfccce7",
   "metadata": {
    "deletable": false,
    "editable": false,
    "nbgrader": {
     "cell_type": "markdown",
     "checksum": "9d5179994783732d1356179a234fba33",
     "grade": false,
     "grade_id": "cell-2af7c5452b88862e",
     "locked": true,
     "schema_version": 3,
     "solution": false,
     "task": false
    }
   },
   "source": [
    "The variable `nested_d` contains a nested dictionary with the gold medal counts for the top four countries in the past three Olympics. Assign the value of Great Britain’s gold medal count from the London Olympics to the variable `london_gold`. Use indexing. Do not hardcode."
   ]
  },
  {
   "cell_type": "code",
   "execution_count": 9,
   "id": "8c64ac7a",
   "metadata": {
    "deletable": false,
    "nbgrader": {
     "cell_type": "code",
     "checksum": "f392c9f651289c50252dd4ef148b20fa",
     "grade": false,
     "grade_id": "cell-4d810eef76aead78",
     "locked": false,
     "schema_version": 3,
     "solution": true,
     "task": false
    },
    "tags": []
   },
   "outputs": [
    {
     "name": "stdout",
     "output_type": "stream",
     "text": [
      "29\n"
     ]
    }
   ],
   "source": [
    "nested_d = {\n",
    "    \"Beijing\": {\"China\": 51, \"USA\": 36, \"Russia\": 22, \"Great Britain\": 19},\n",
    "    \"London\": {\"USA\": 46, \"China\": 38, \"Great Britain\": 29, \"Russia\": 22},\n",
    "    \"Rio\": {\"USA\": 35, \"Great Britain\": 22, \"China\": 20, \"Germany\": 13},\n",
    "}\n",
    "\n",
    "london_gold = nested_d[\"London\"][\"Great Britain\"]\n",
    "print(london_gold)"
   ]
  },
  {
   "cell_type": "code",
   "execution_count": 10,
   "id": "50b77098",
   "metadata": {
    "deletable": false,
    "editable": false,
    "nbgrader": {
     "cell_type": "code",
     "checksum": "2ed5ad8b661402c74397ad8ac2ce0698",
     "grade": true,
     "grade_id": "cell-8590b00f64d313ec",
     "locked": true,
     "points": 1,
     "schema_version": 3,
     "solution": false,
     "task": false
    },
    "tags": []
   },
   "outputs": [],
   "source": [
    "assert london_gold == 29"
   ]
  },
  {
   "cell_type": "markdown",
   "id": "d70a54b5",
   "metadata": {
    "deletable": false,
    "editable": false,
    "nbgrader": {
     "cell_type": "markdown",
     "checksum": "c91face8ece96d4e5db45987aac3d373",
     "grade": false,
     "grade_id": "cell-528433ae32836d09",
     "locked": true,
     "schema_version": 3,
     "solution": false,
     "task": false
    }
   },
   "source": [
    "Below, we have provided a nested dictionary, `sports`. Index into the dictionary to create variables that we have listed in the code window."
   ]
  },
  {
   "cell_type": "code",
   "execution_count": 11,
   "id": "eaf61f9a",
   "metadata": {
    "deletable": false,
    "nbgrader": {
     "cell_type": "code",
     "checksum": "ccf8c13882bc3d294937b5168c2cc8ef",
     "grade": false,
     "grade_id": "cell-f69ccbbacd2993e4",
     "locked": false,
     "schema_version": 3,
     "solution": true,
     "task": false
    },
    "tags": []
   },
   "outputs": [
    {
     "name": "stdout",
     "output_type": "stream",
     "text": [
      "backstroke platform ['vault', 'floor', 'uneven bars', 'balance beam'] rings\n"
     ]
    }
   ],
   "source": [
    "sports = {\n",
    "    \"swimming\": [\"butterfly\", \"breaststroke\", \"backstroke\", \"freestyle\"],\n",
    "    \"diving\": [\"springboard\", \"platform\", \"synchronized\"],\n",
    "    \"track\": [\"sprint\", \"distance\", \"jumps\", \"throws\"],\n",
    "    \"gymnastics\": {\n",
    "        \"women\": [\"vault\", \"floor\", \"uneven bars\", \"balance beam\"],\n",
    "        \"men\": [\"vault\", \"parallel bars\", \"floor\", \"rings\"],\n",
    "    },\n",
    "}\n",
    "\n",
    "# Assign the string 'backstroke' to the variable v1\n",
    "v1 = sports[\"swimming\"][2]\n",
    "\n",
    "# Assign the string 'platform' to the variable v2\n",
    "v2 = sports[\"diving\"][1]\n",
    "\n",
    "# Assign the list ['vault', 'floor', 'uneven bars', 'balance beam'] to the variable v3\n",
    "v3 = sports[\"gymnastics\"][\"women\"]\n",
    "\n",
    "# Assign the string 'rings' to the variable v4\n",
    "v4 = sports[\"gymnastics\"][\"men\"][3]\n",
    "\n",
    "print(v1, v2, v3, v4)"
   ]
  },
  {
   "cell_type": "code",
   "execution_count": 12,
   "id": "a3279114",
   "metadata": {
    "deletable": false,
    "editable": false,
    "nbgrader": {
     "cell_type": "code",
     "checksum": "fa3794876a51908008b4d513dd3a0bef",
     "grade": true,
     "grade_id": "cell-a0971634a44eb834",
     "locked": true,
     "points": 1,
     "schema_version": 3,
     "solution": false,
     "task": false
    },
    "tags": []
   },
   "outputs": [],
   "source": [
    "assert v1 == \"backstroke\"\n",
    "assert v2 == \"platform\"\n",
    "assert v3 == [\"vault\", \"floor\", \"uneven bars\", \"balance beam\"]\n",
    "assert v4 == \"rings\""
   ]
  },
  {
   "cell_type": "markdown",
   "id": "b0efe777",
   "metadata": {
    "deletable": false,
    "editable": false,
    "nbgrader": {
     "cell_type": "markdown",
     "checksum": "d5d1fed4df350f2249b394f07342f620",
     "grade": false,
     "grade_id": "cell-91a23e591077ee9f",
     "locked": true,
     "schema_version": 3,
     "solution": false,
     "task": false
    }
   },
   "source": [
    "Create a new list called `thirds` by iterating through the contents of `list__of_lists`, collecting the third element of each sublist."
   ]
  },
  {
   "cell_type": "code",
   "execution_count": 13,
   "id": "43ca6201",
   "metadata": {
    "deletable": false,
    "nbgrader": {
     "cell_type": "code",
     "checksum": "07f27236c6fbd9fd335010b2963ddb1b",
     "grade": false,
     "grade_id": "cell-ddda847974ac8019",
     "locked": false,
     "schema_version": 3,
     "solution": true,
     "task": false
    },
    "tags": []
   },
   "outputs": [
    {
     "name": "stdout",
     "output_type": "stream",
     "text": [
      "['blue', 'blood orange', 'lavender', 'mac n cheese']\n"
     ]
    }
   ],
   "source": [
    "list__of_lists = [\n",
    "    [\"purple\", \"mauve\", \"blue\"],\n",
    "    [\"red\", \"maroon\", \"blood orange\", \"crimson\"],\n",
    "    [\"sea green\", \"cornflower\", \"lavender\", \"indigo\"],\n",
    "    [\"yellow\", \"amarillo\", \"mac n cheese\", \"golden rod\"],\n",
    "]\n",
    "\n",
    "# Create a new list called thirds by iterating through the contents of list__of_lists\n",
    "thirds = [sublist[2] for sublist in list__of_lists if len(sublist) > 2]\n",
    "print(thirds)"
   ]
  },
  {
   "cell_type": "code",
   "execution_count": 14,
   "id": "80f954f8",
   "metadata": {
    "deletable": false,
    "editable": false,
    "nbgrader": {
     "cell_type": "code",
     "checksum": "8d9bd2d8e5546e4ea13719be9c41c971",
     "grade": true,
     "grade_id": "cell-1dd02ab20b37a271",
     "locked": true,
     "points": 1,
     "schema_version": 3,
     "solution": false,
     "task": false
    },
    "tags": []
   },
   "outputs": [],
   "source": [
    "assert thirds == [\"blue\", \"blood orange\", \"lavender\", \"mac n cheese\"]"
   ]
  },
  {
   "cell_type": "markdown",
   "id": "5d317bc4",
   "metadata": {
    "deletable": false,
    "editable": false,
    "nbgrader": {
     "cell_type": "markdown",
     "checksum": "db94264669a8911fbb3c4596dfcc395b",
     "grade": false,
     "grade_id": "cell-fb7fb1c6fb6f531c",
     "locked": true,
     "schema_version": 3,
     "solution": false,
     "task": false
    }
   },
   "source": [
    "Given below is a list of lists of athletes. Create a list, `t_athletes`, that includes an athlete's name if it contains a lowercase \"t\". If it does not contain the letter \"t\", save that athlete's name into list `others`."
   ]
  },
  {
   "cell_type": "code",
   "execution_count": 15,
   "id": "0a8b09c2",
   "metadata": {
    "deletable": false,
    "nbgrader": {
     "cell_type": "code",
     "checksum": "5c069cc70c2df6de5186aed230c5abd9",
     "grade": false,
     "grade_id": "cell-f14dc189e95de246",
     "locked": false,
     "schema_version": 3,
     "solution": true,
     "task": false
    },
    "tags": []
   },
   "outputs": [
    {
     "name": "stdout",
     "output_type": "stream",
     "text": [
      "Athletes with 't': ['Lochte', 'Bolt', 'Eaton', 'Dalton']\n",
      "Other athletes: ['Phelps', 'Schooling', 'Ledecky', 'Franklin', 'Felix', 'Gardner', 'Biles', 'Douglas', 'Hamm', 'Raisman', 'Mikulak']\n"
     ]
    }
   ],
   "source": [
    "athletes = [\n",
    "    [\"Phelps\", \"Lochte\", \"Schooling\", \"Ledecky\", \"Franklin\"],\n",
    "    [\"Felix\", \"Bolt\", \"Gardner\", \"Eaton\"],\n",
    "    [\"Biles\", \"Douglas\", \"Hamm\", \"Raisman\", \"Mikulak\", \"Dalton\"],\n",
    "]\n",
    "\n",
    "t_athletes = [\n",
    "    athlete for sublist in athletes for athlete in sublist if \"t\" in athlete.lower()\n",
    "]\n",
    "others = [\n",
    "    athlete for sublist in athletes for athlete in sublist if \"t\" not in athlete.lower()\n",
    "]\n",
    "\n",
    "# Check if there are any overlaps or omissions\n",
    "assert set(t_athletes + others) == set(\n",
    "    [athlete for sublist in athletes for athlete in sublist]\n",
    ")\n",
    "\n",
    "# Print to verify\n",
    "print(\"Athletes with 't':\", t_athletes)\n",
    "print(\"Other athletes:\", others)"
   ]
  },
  {
   "cell_type": "code",
   "execution_count": null,
   "id": "67fe4d3f",
   "metadata": {
    "deletable": false,
    "editable": false,
    "nbgrader": {
     "cell_type": "code",
     "checksum": "cc9c28d5496cc3cab88f971987f1645c",
     "grade": true,
     "grade_id": "cell-be34ffa738a0764b",
     "locked": true,
     "points": 1,
     "schema_version": 3,
     "solution": false,
     "task": false
    }
   },
   "outputs": [],
   "source": []
  }
 ],
 "metadata": {
  "kernelspec": {
   "display_name": "Python 3 (ipykernel)",
   "language": "python",
   "name": "python3"
  },
  "language_info": {
   "codemirror_mode": {
    "name": "ipython",
    "version": 3
   },
   "file_extension": ".py",
   "mimetype": "text/x-python",
   "name": "python",
   "nbconvert_exporter": "python",
   "pygments_lexer": "ipython3",
   "version": "3.11.6"
  }
 },
 "nbformat": 4,
 "nbformat_minor": 5
}
