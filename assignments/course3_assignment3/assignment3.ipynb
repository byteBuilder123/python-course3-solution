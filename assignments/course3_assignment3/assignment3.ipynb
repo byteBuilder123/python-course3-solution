{
 "cells": [
  {
   "cell_type": "markdown",
   "id": "e9fb1f6f",
   "metadata": {
    "deletable": false,
    "editable": false,
    "nbgrader": {
     "cell_type": "markdown",
     "checksum": "529d3814300026fb4cd2c2395051f35e",
     "grade": false,
     "grade_id": "cell-1147e966375cbcbd",
     "locked": true,
     "schema_version": 3,
     "solution": false,
     "task": false
    }
   },
   "source": [
    "# Final Project for Course 3 - OMDB and TasteDive Mashup"
   ]
  },
  {
   "cell_type": "markdown",
   "id": "a9403665",
   "metadata": {
    "deletable": false,
    "editable": false,
    "nbgrader": {
     "cell_type": "markdown",
     "checksum": "ca6df26371d4394137dc41fe5b23fed6",
     "grade": false,
     "grade_id": "cell-e7072e501f48b813",
     "locked": true,
     "schema_version": 3,
     "solution": false,
     "task": false
    }
   },
   "source": [
    "This project will take you through the process of mashing up data from two different APIs to make movie recommendations. The TasteDive API lets you provide a movie (or bands, TV shows, etc.) as a query input, and returns a set of related items. The OMDB API lets you provide a movie title as a query input and get back data about the movie, including scores from various review sites (Rotten Tomatoes, IMDB, etc.).\n",
    "\n",
    "You will put those two together. You will use TasteDive to get related movies for a whole list of titles. You’ll combine the resulting lists of related movies, and sort them according to their Rotten Tomatoes scores (which will require making API calls to the OMDB API.)\n",
    "\n",
    "To avoid problems with rate limits and site accessibility, we have provided a cache file with results for all the queries you need to make to both OMDB and TasteDive. Use `requests_with_caching.get()` rather than `requests.get()`. If you’re having trouble, you may not be formatting your queries properly, or you may not be asking for data that exists in our cache. We will try to provide as much information as we can to help guide you to form queries for which data exists in the cache. \n",
    "\n",
    "**IMPORTANT: If you run any query on either API that does not find its results in the \"permanent cache\", then you haven't written the right query. This will probably cause a later step in the process to fail.**\n",
    "\n"
   ]
  },
  {
   "cell_type": "markdown",
   "id": "8a061e8d-3441-4e20-9ec1-a2b4a6e96594",
   "metadata": {
    "deletable": false,
    "editable": false,
    "nbgrader": {
     "cell_type": "markdown",
     "checksum": "1ac52a8bab0b3c5af0bf1860ace10bd5",
     "grade": false,
     "grade_id": "cell-05083b7e653b6338",
     "locked": true,
     "schema_version": 3,
     "solution": false,
     "task": false
    }
   },
   "source": [
    "## Step 1: Retrieve related movies from TasteDive\n",
    "\n",
    "Your first task will be to fetch data from TasteDive. The documentation for the API is at https://tastedive.com/read/api. In case the documentation has changed, you may want to access an [archived version](https://web.archive.org/web/20230530015616/https://tastedive.com/read/api). (Queries will still work even if the API has changed or disappeared because our cache is based on the archived version.)\n",
    "\n",
    "Define a function, called `get_movies_from_tastedive`. It should take one input parameter, a string that is the name of a movie or music artist. The function should return the 5 TasteDive results that are associated with that string; be sure to only get movies, not other kinds of media. It will be a python dictionary with just one key, ‘Similar’.\n",
    "\n",
    "Try invoking your function with the input “Black Panther”.\n",
    "\n",
    "HINT: Be sure to include **only** `q`, `type`, and `limit` as parameters in order to extract data from the cache. If any other parameters are included, then the function will not be able to recognize the data that you’re attempting to pull from the cache. Remember, you will *not* need an api key in order to complete the project, because all data will be found in the cache.\n",
    "\n",
    "The cache includes data for the following queries:\n",
    "<div class=\"alert alert-block alert-info\">\n",
    "<table style=\"width:100%\">\n",
    "  <tr>\n",
    "    <th style=\"text-align:left\">q</th>\n",
    "    <th style=\"text-align:left\">type</th>\n",
    "    <th style=\"text-align:left\">limit</th>\n",
    "  </tr>\n",
    "  <tr>\n",
    "    <td style=\"text-align:left\">Black Panther</td>\n",
    "    <td style=\"text-align:left\">< omitted ></td>\n",
    "    <td style=\"text-align:left\">< omitted ></td>\n",
    "  </tr>\n",
    "  <tr>\n",
    "    <td style=\"text-align:left\">Black Panther</td>\n",
    "    <td style=\"text-align:left\">< omitted ></td>\n",
    "    <td style=\"text-align:left\">5</td>\n",
    "  </tr>\n",
    "  <tr>\n",
    "    <td style=\"text-align:left\">Black Panther</td>\n",
    "    <td style=\"text-align:left\">movies</td>\n",
    "    <td style=\"text-align:left\">< omitted ></td>\n",
    "  </tr>\n",
    "  <tr>\n",
    "    <td style=\"text-align:left\">Black Panther</td>\n",
    "    <td style=\"text-align:left\">movies</td>\n",
    "    <td style=\"text-align:left\">5</td>\n",
    "  </tr>\n",
    "  <tr>\n",
    "    <td style=\"text-align:left\">Tony Bennett</td>\n",
    "    <td style=\"text-align:left\">< omitted ></td>\n",
    "    <td style=\"text-align:left\">5</td>\n",
    "  </tr>\n",
    "  <tr>\n",
    "    <td style=\"text-align:left\">Tony Bennett</td>\n",
    "    <td style=\"text-align:left\">movies</td>\n",
    "    <td style=\"text-align:left\">5</td>\n",
    "  </tr>\n",
    "  <tr>\n",
    "    <td style=\"text-align:left\">Captain Marvel</td>\n",
    "    <td style=\"text-align:left\">movies</td>\n",
    "    <td style=\"text-align:left\">5</td>\n",
    "  </tr>\n",
    "  <tr>\n",
    "    <td style=\"text-align:left\">Bridesmaids</td>\n",
    "    <td style=\"text-align:left\">movies</td>\n",
    "    <td style=\"text-align:left\">5</td>\n",
    "  </tr>\n",
    "  <tr>\n",
    "    <td style=\"text-align:left\">Sherlock Holmes</td>\n",
    "    <td style=\"text-align:left\">movies</td>\n",
    "    <td style=\"text-align:left\">5</td>\n",
    "  </tr>    \n",
    "</table></div>\n"
   ]
  },
  {
   "cell_type": "code",
   "execution_count": 1,
   "id": "620562c5",
   "metadata": {
    "deletable": false,
    "nbgrader": {
     "cell_type": "code",
     "checksum": "1eeb86476636ed9f21d9687010c50aec",
     "grade": false,
     "grade_id": "cell-2112668920e5de5e",
     "locked": false,
     "schema_version": 3,
     "solution": true,
     "task": false
    },
    "tags": []
   },
   "outputs": [
    {
     "name": "stdout",
     "output_type": "stream",
     "text": [
      "found in permanent_cache\n",
      "{'Similar': {'Info': [{'Name': 'Black Panther', 'Type': 'movie'}], 'Results': [{'Name': 'Captain Marvel', 'Type': 'movie'}, {'Name': 'Avengers: Infinity War', 'Type': 'movie'}, {'Name': 'Ant-Man And The Wasp', 'Type': 'movie'}, {'Name': 'The Fate Of The Furious', 'Type': 'movie'}, {'Name': 'Deadpool 2', 'Type': 'movie'}]}}\n"
     ]
    }
   ],
   "source": [
    "import requests_with_caching\n",
    "\n",
    "def get_movies_from_tastedive(movie_name):\n",
    "    base_url = \"https://tastedive.com/api/similar\"\n",
    "    params = {\n",
    "        'q': movie_name,\n",
    "        'type': 'movies',\n",
    "        'limit': 5\n",
    "    }\n",
    "    response = requests_with_caching.get(base_url, params=params)\n",
    "    return response.json()\n",
    "\n",
    "# Test the function with \"Black Panther\"\n",
    "print(get_movies_from_tastedive(\"Black Panther\"))\n"
   ]
  },
  {
   "cell_type": "code",
   "execution_count": null,
   "id": "55356136",
   "metadata": {
    "deletable": false,
    "editable": false,
    "nbgrader": {
     "cell_type": "code",
     "checksum": "8d2e19e0a00d68557d74a25df60e096c",
     "grade": true,
     "grade_id": "cell-51df429ec359ce25",
     "locked": true,
     "points": 1,
     "schema_version": 3,
     "solution": false,
     "task": false
    },
    "tags": []
   },
   "outputs": [],
   "source": []
  },
  {
   "cell_type": "markdown",
   "id": "3fa45aea",
   "metadata": {
    "deletable": false,
    "editable": false,
    "nbgrader": {
     "cell_type": "markdown",
     "checksum": "607aa9d1bb6279d27eff9591df095d45",
     "grade": false,
     "grade_id": "cell-4faa6b7c2fb97520",
     "locked": true,
     "schema_version": 3,
     "solution": false,
     "task": false
    }
   },
   "source": [
    "## Step 2: Extract the movie titles \n",
    "Next, you will need to write a function that extracts just the list of movie titles from a dictionary returned by `get_movies_from_tastedive`. Call the function `extract_movie_titles`."
   ]
  },
  {
   "cell_type": "code",
   "execution_count": 2,
   "id": "2b324665",
   "metadata": {
    "deletable": false,
    "nbgrader": {
     "cell_type": "code",
     "checksum": "bde68a76506e7dc1f01450c1998abc44",
     "grade": false,
     "grade_id": "cell-21ff62db66221b6b",
     "locked": false,
     "schema_version": 3,
     "solution": true,
     "task": false
    },
    "tags": []
   },
   "outputs": [
    {
     "name": "stdout",
     "output_type": "stream",
     "text": [
      "found in permanent_cache\n",
      "['The Startup Kids', 'Charlie Chaplin', 'Venus In Fur', 'Loving', 'The African Queen']\n",
      "found in permanent_cache\n",
      "['Captain Marvel', 'Avengers: Infinity War', 'Ant-Man And The Wasp', 'The Fate Of The Furious', 'Deadpool 2']\n"
     ]
    }
   ],
   "source": [
    "def extract_movie_titles(movie_dict):\n",
    "    return [movie['Name'] for movie in movie_dict['Similar']['Results']]\n",
    "\n",
    "# Test the function with \"Tony Bennett\" and \"Black Panther\"\n",
    "print(extract_movie_titles(get_movies_from_tastedive(\"Tony Bennett\")))\n",
    "print(extract_movie_titles(get_movies_from_tastedive(\"Black Panther\")))\n"
   ]
  },
  {
   "cell_type": "code",
   "execution_count": null,
   "id": "72aecb5b",
   "metadata": {
    "deletable": false,
    "editable": false,
    "nbgrader": {
     "cell_type": "code",
     "checksum": "2da28cc6cc2e631eca064770ea3f200e",
     "grade": true,
     "grade_id": "cell-c51b0d9cee5df839",
     "locked": true,
     "points": 1,
     "schema_version": 3,
     "solution": false,
     "task": false
    },
    "tags": []
   },
   "outputs": [],
   "source": []
  },
  {
   "cell_type": "markdown",
   "id": "b11bde03",
   "metadata": {
    "deletable": false,
    "editable": false,
    "nbgrader": {
     "cell_type": "markdown",
     "checksum": "3ad3605de4ec7ca0b4a2d78c73c3d7e2",
     "grade": false,
     "grade_id": "cell-398c068b3a473bdc",
     "locked": true,
     "schema_version": 3,
     "solution": false,
     "task": false
    }
   },
   "source": [
    "## Step 3: Get related titles for a movie\n",
    "Next, you’ll write a function called `get_related_titles`. It takes a list of movie titles as input. It gets five related movies for each from TasteDive, extracts the titles for all of them, and combines them all into a single list. Don’t include the same movie twice. \n",
    "\n",
    "[Hint: make use of the two functions you already wrote; don't rewrite that code!]"
   ]
  },
  {
   "cell_type": "code",
   "execution_count": 3,
   "id": "786dfb58",
   "metadata": {
    "deletable": false,
    "nbgrader": {
     "cell_type": "code",
     "checksum": "1c6c744af58e29d83fa0da3d22130803",
     "grade": false,
     "grade_id": "cell-1dd5e35c7939fade",
     "locked": false,
     "schema_version": 3,
     "solution": true,
     "task": false
    },
    "tags": []
   },
   "outputs": [
    {
     "name": "stdout",
     "output_type": "stream",
     "text": [
      "found in permanent_cache\n",
      "found in permanent_cache\n",
      "['The Fate Of The Furious', 'Deadpool 2', 'Black Panther', 'Venom', 'American Assassin', 'Captain Marvel', 'Inhumans', 'Avengers: Infinity War', 'Ant-Man And The Wasp']\n"
     ]
    }
   ],
   "source": [
    "def get_related_titles(movie_titles):\n",
    "    related_titles = []\n",
    "    for title in movie_titles:\n",
    "        related = get_movies_from_tastedive(title)\n",
    "        related_titles.extend(extract_movie_titles(related))\n",
    "    return list(set(related_titles))  # Remove duplicates\n",
    "\n",
    "# Test the function with [\"Black Panther\", \"Captain Marvel\"]\n",
    "print(get_related_titles([\"Black Panther\", \"Captain Marvel\"]))\n"
   ]
  },
  {
   "cell_type": "code",
   "execution_count": null,
   "id": "fb6e6b66",
   "metadata": {
    "deletable": false,
    "editable": false,
    "nbgrader": {
     "cell_type": "code",
     "checksum": "a0ebbaf2875bfc8cd1fe4cadcf141d20",
     "grade": true,
     "grade_id": "cell-39bb86109b308d09",
     "locked": true,
     "points": 1,
     "schema_version": 3,
     "solution": false,
     "task": false
    },
    "tags": []
   },
   "outputs": [],
   "source": []
  },
  {
   "cell_type": "markdown",
   "id": "406b3a89",
   "metadata": {
    "deletable": false,
    "editable": false,
    "nbgrader": {
     "cell_type": "markdown",
     "checksum": "3444b4037b31c70bd244d42b41d3493c",
     "grade": false,
     "grade_id": "cell-c136d90e0ea5417e",
     "locked": true,
     "schema_version": 3,
     "solution": false,
     "task": false
    }
   },
   "source": [
    "## Step 4. Get OMDB data about each movie\n",
    "Your next task will be to fetch data from OMDB. The documentation for the API is at https://www.omdbapi.com/. In case the API has changed or disappeared, you may want to consult an [archived version](https://web.archive.org/web/20230701045926/https://www.omdbapi.com/). (Queries will still work even if the API has changed or disappeared because our cache is based on the archived version.)\n",
    "\n",
    "Define a function called `get_movie_data`. It takes in one parameter which is a string that represents the title of a movie you want to search for. The function should return a dictionary with information about that movie.\n",
    "\n",
    "Again, use `requests_with_caching.get()`. For the queries on movies that are already in the cache, you won’t need an api key. You will need to provide the following keys: `t` and `r`. As with the TasteDive cache, be sure to only include those two parameters in order to extract existing data from the cache."
   ]
  },
  {
   "cell_type": "code",
   "execution_count": 4,
   "id": "18750752",
   "metadata": {
    "deletable": false,
    "nbgrader": {
     "cell_type": "code",
     "checksum": "c7b5c88bb11a2c2900aa9a9eeb17a75f",
     "grade": false,
     "grade_id": "cell-10beffb8e8c386fe",
     "locked": false,
     "schema_version": 3,
     "solution": true,
     "task": false
    },
    "tags": []
   },
   "outputs": [
    {
     "name": "stdout",
     "output_type": "stream",
     "text": [
      "found in permanent_cache\n",
      "{'Title': 'Venom', 'Year': '2018', 'Rated': 'PG-13', 'Released': '05 Oct 2018', 'Runtime': '112 min', 'Genre': 'Action, Adventure, Sci-Fi', 'Director': 'Ruben Fleischer', 'Writer': 'Jeff Pinkner, Scott Rosenberg, Kelly Marcel', 'Actors': 'Tom Hardy, Michelle Williams, Riz Ahmed', 'Plot': 'A failed reporter is bonded to an alien entity, one of many symbiotes who have invaded Earth. But the being takes a liking to Earth and decides to protect it.', 'Language': 'English, Mandarin, Malay', 'Country': 'United States, China', 'Awards': '2 wins & 9 nominations', 'Poster': 'https://m.media-amazon.com/images/M/MV5BNTFkZjdjN2QtOGE5MS00ZTgzLTgxZjAtYzkyZWQ5MjEzYmZjXkEyXkFqcGdeQXVyMTM0NTUzNDIy._V1_SX300.jpg', 'Ratings': [{'Source': 'Internet Movie Database', 'Value': '6.6/10'}, {'Source': 'Rotten Tomatoes', 'Value': '30%'}, {'Source': 'Metacritic', 'Value': '35/100'}], 'Metascore': '35', 'imdbRating': '6.6', 'imdbVotes': '537,584', 'imdbID': 'tt1270797', 'Type': 'movie', 'DVD': '18 Jun 2019', 'BoxOffice': '$213,515,506', 'Production': 'N/A', 'Website': 'N/A', 'Response': 'True'}\n",
      "found in permanent_cache\n",
      "{'Title': 'Baby Mama', 'Year': '2008', 'Rated': 'PG-13', 'Released': '25 Apr 2008', 'Runtime': '99 min', 'Genre': 'Comedy, Romance', 'Director': 'Michael McCullers', 'Writer': 'Michael McCullers', 'Actors': 'Tina Fey, Amy Poehler, Sigourney Weaver', 'Plot': 'A successful, single businesswoman who dreams of having a baby discovers she is infertile and hires a working class woman to be her unlikely surrogate.', 'Language': 'English', 'Country': 'United States', 'Awards': '1 win & 5 nominations', 'Poster': 'https://m.media-amazon.com/images/M/MV5BMTYwNTc1Nzk1N15BMl5BanBnXkFtZTcwNjE4OTI2MQ@@._V1_SX300.jpg', 'Ratings': [{'Source': 'Internet Movie Database', 'Value': '6.0/10'}, {'Source': 'Rotten Tomatoes', 'Value': '63%'}, {'Source': 'Metacritic', 'Value': '55/100'}], 'Metascore': '55', 'imdbRating': '6.0', 'imdbVotes': '47,199', 'imdbID': 'tt0871426', 'Type': 'movie', 'DVD': '15 Jun 2012', 'BoxOffice': '$60,494,212', 'Production': 'N/A', 'Website': 'N/A', 'Response': 'True'}\n"
     ]
    }
   ],
   "source": [
    "def get_movie_data(movie_title):\n",
    "    base_url = \"http://www.omdbapi.com/\"\n",
    "    params = {\n",
    "        't': movie_title,\n",
    "        'r': 'json'\n",
    "    }\n",
    "    response = requests_with_caching.get(base_url, params=params)\n",
    "    return response.json()\n",
    "\n",
    "# Test the function with \"Venom\" and \"Baby Mama\"\n",
    "print(get_movie_data(\"Venom\"))\n",
    "print(get_movie_data(\"Baby Mama\"))\n"
   ]
  },
  {
   "cell_type": "code",
   "execution_count": null,
   "id": "0744f4ee",
   "metadata": {
    "deletable": false,
    "editable": false,
    "nbgrader": {
     "cell_type": "code",
     "checksum": "e097d5d3e1e50e3e1c20ca80b9953d1d",
     "grade": true,
     "grade_id": "cell-51e224d2fdd01c53",
     "locked": true,
     "points": 1,
     "schema_version": 3,
     "solution": false,
     "task": false
    },
    "tags": []
   },
   "outputs": [],
   "source": []
  },
  {
   "cell_type": "markdown",
   "id": "4091a78c",
   "metadata": {
    "deletable": false,
    "editable": false,
    "nbgrader": {
     "cell_type": "markdown",
     "checksum": "1758b6fedc2cfce491901e7838c651cc",
     "grade": false,
     "grade_id": "cell-d9aef9573234fd2e",
     "locked": true,
     "schema_version": 3,
     "solution": false,
     "task": false
    }
   },
   "source": [
    "## Step 5. Extract Rotten Tomatoes Rating\n",
    "Now write a function called `get_movie_rating`. It takes an OMDB dictionary result for one movie and extracts the Rotten Tomatoes rating as an integer. For example, if given the OMDB dictionary for “Black Panther”, it would return 97. If there is no Rotten Tomatoes rating, return 0."
   ]
  },
  {
   "cell_type": "code",
   "execution_count": 5,
   "id": "fdfa4b67",
   "metadata": {
    "deletable": false,
    "nbgrader": {
     "cell_type": "code",
     "checksum": "9c95fef714218547bd02d2a0d3872275",
     "grade": false,
     "grade_id": "cell-e0532a6e333c66bd",
     "locked": false,
     "schema_version": 3,
     "solution": true,
     "task": false
    },
    "tags": []
   },
   "outputs": [
    {
     "name": "stdout",
     "output_type": "stream",
     "text": [
      "found in permanent_cache\n",
      "84\n"
     ]
    }
   ],
   "source": [
    "def get_movie_rating(movie_data):\n",
    "    ratings = movie_data['Ratings']\n",
    "    for rating in ratings:\n",
    "        if rating['Source'] == 'Rotten Tomatoes':\n",
    "            return int(rating['Value'].replace('%', ''))\n",
    "    return 0  # Return 0 if Rotten Tomatoes rating is not found\n",
    "\n",
    "# Test the function with \"Deadpool 2\"\n",
    "print(get_movie_rating(get_movie_data(\"Deadpool 2\")))\n"
   ]
  },
  {
   "cell_type": "code",
   "execution_count": null,
   "id": "0eefb430",
   "metadata": {
    "deletable": false,
    "editable": false,
    "nbgrader": {
     "cell_type": "code",
     "checksum": "1ff17d8d24d105c2c4cafea2eab18cec",
     "grade": true,
     "grade_id": "cell-f459e9e9b422b595",
     "locked": true,
     "points": 1,
     "schema_version": 3,
     "solution": false,
     "task": false
    },
    "tags": []
   },
   "outputs": [],
   "source": []
  },
  {
   "cell_type": "markdown",
   "id": "c1839349",
   "metadata": {
    "deletable": false,
    "editable": false,
    "nbgrader": {
     "cell_type": "markdown",
     "checksum": "a153133909df58d1fb90a4eb22fdc12d",
     "grade": false,
     "grade_id": "cell-e2acdef35957104b",
     "locked": true,
     "schema_version": 3,
     "solution": false,
     "task": false
    }
   },
   "source": [
    "## Step 6. Put it all together to make a recommender system\n",
    "Now, you’ll put it all together. Define a function `get_sorted_recommendations`. It takes a list of movie titles as an input. It returns a sorted list of related movie titles as output, up to five related movies for each input movie title. The movies should be sorted in descending order by their Rotten Tomatoes rating, as returned by the `get_movie_rating` function. Break ties in reverse alphabetic order, so that ‘Yahşi Batı’ comes before ‘Eyyvah Eyvah’.\n",
    "\n",
    "(Hint 1: remember that if you sort based on a tuple, the second attribute of the tuple is used to break ties.)\n",
    "(Hint 2: we made the sort order easier for you, not harder, by specifying that ties be broken in reverse alphabetic order. The primary sort attribute, the Rotten Tomatoes rating, is also in reverse order, from highest to lowest.)"
   ]
  },
  {
   "cell_type": "code",
   "execution_count": 6,
   "id": "9ef55c77",
   "metadata": {
    "deletable": false,
    "nbgrader": {
     "cell_type": "code",
     "checksum": "231602b8b9d7404c322d666b589951ce",
     "grade": false,
     "grade_id": "cell-4b33a3a3dcad4384",
     "locked": false,
     "schema_version": 3,
     "solution": true,
     "task": false
    },
    "tags": []
   },
   "outputs": [
    {
     "name": "stdout",
     "output_type": "stream",
     "text": [
      "found in permanent_cache\n",
      "found in permanent_cache\n",
      "found in permanent_cache\n",
      "found in permanent_cache\n",
      "found in permanent_cache\n",
      "found in permanent_cache\n",
      "found in permanent_cache\n",
      "found in permanent_cache\n",
      "found in permanent_cache\n",
      "found in permanent_cache\n",
      "found in permanent_cache\n",
      "found in permanent_cache\n",
      "['Date Night', 'The Heat', 'The Five-Year Engagement', 'Baby Mama', 'Sherlock Holmes: A Game Of Shadows']\n"
     ]
    }
   ],
   "source": [
    "def get_sorted_recommendations(movie_titles):\n",
    "    related_titles = get_related_titles(movie_titles)\n",
    "    related_titles.sort(key=lambda title: (get_movie_rating(get_movie_data(title)), title), reverse=True)\n",
    "    return related_titles[:5]\n",
    "\n",
    "# Test the function with [\"Bridesmaids\", \"Sherlock Holmes\"]\n",
    "print(get_sorted_recommendations([\"Bridesmaids\", \"Sherlock Holmes\"]))\n"
   ]
  },
  {
   "cell_type": "code",
   "execution_count": null,
   "id": "cb1e3abe",
   "metadata": {
    "deletable": false,
    "editable": false,
    "nbgrader": {
     "cell_type": "code",
     "checksum": "2cd2063eeaa87e067e8c3ee4de8c8984",
     "grade": true,
     "grade_id": "cell-7dc71d7fb893a2ad",
     "locked": true,
     "points": 1,
     "schema_version": 3,
     "solution": false,
     "task": false
    },
    "tags": []
   },
   "outputs": [],
   "source": []
  }
 ],
 "metadata": {
  "kernelspec": {
   "display_name": "Python 3 (ipykernel)",
   "language": "python",
   "name": "python3"
  },
  "language_info": {
   "codemirror_mode": {
    "name": "ipython",
    "version": 3
   },
   "file_extension": ".py",
   "mimetype": "text/x-python",
   "name": "python",
   "nbconvert_exporter": "python",
   "pygments_lexer": "ipython3",
   "version": "3.11.6"
  }
 },
 "nbformat": 4,
 "nbformat_minor": 5
}
